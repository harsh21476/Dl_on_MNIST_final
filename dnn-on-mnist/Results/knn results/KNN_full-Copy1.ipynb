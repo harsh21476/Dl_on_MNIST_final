{
 "cells": [
  {
   "cell_type": "code",
   "execution_count": 1,
   "metadata": {},
   "outputs": [
    {
     "name": "stderr",
     "output_type": "stream",
     "text": [
      "Using TensorFlow backend.\n"
     ]
    }
   ],
   "source": [
    "import keras\n",
    "import pandas as pd\n",
    "import numpy as np\n",
    "import matplotlib.pyplot as plt\n",
    "\n",
    "'''Preparing Data'''\n",
    "from sklearn.datasets import fetch_mldata\n",
    "mnist = fetch_mldata('MNIST original')\n",
    "X, y = mnist[\"data\"], mnist[\"target\"]\n",
    "X_train, X_test, y_train, y_test = X[:60000], X[60000:], y[:60000], y[60000:]\n",
    "\n",
    "shuffle_index = np.random.permutation(60000)\n",
    "X_train, y_train = X_train[shuffle_index], y_train[shuffle_index]\n",
    "\n",
    "# '''Cropping Data'''\n",
    "# X_train, y_train = X_train[:1000], y_train[:1000]"
   ]
  },
  {
   "cell_type": "code",
   "execution_count": 2,
   "metadata": {},
   "outputs": [
    {
     "name": "stdout",
     "output_type": "stream",
     "text": [
      "GridSearchCV(cv=10, error_score='raise',\n",
      "       estimator=KNeighborsClassifier(algorithm='auto', leaf_size=30, metric='minkowski',\n",
      "           metric_params=None, n_jobs=-1, n_neighbors=5, p=2,\n",
      "           weights='uniform'),\n",
      "       fit_params=None, iid=True, n_jobs=1,\n",
      "       param_grid=[{'n_neighbors': [1, 3, 10, 30]}],\n",
      "       pre_dispatch='2*n_jobs', refit=True, return_train_score='warn',\n",
      "       scoring=None, verbose=0)\n"
     ]
    }
   ],
   "source": [
    "from sklearn.neighbors import KNeighborsClassifier\n",
    "from sklearn.model_selection import GridSearchCV\n",
    "\n",
    "param_grid = [\n",
    "{'n_neighbors': [3, 5, 7, 30]},\n",
    "]\n",
    "\n",
    "clf = KNeighborsClassifier(n_jobs=-1)\n",
    "\n",
    "grid_search = GridSearchCV(clf, param_grid, cv=10)\n",
    "print(grid_search.fit(X_train, y_train))"
   ]
  },
  {
   "cell_type": "code",
   "execution_count": 12,
   "metadata": {},
   "outputs": [
    {
     "name": "stdout",
     "output_type": "stream",
     "text": [
      "{'mean_fit_time': array([0.01604273, 0.01549008, 0.01402569, 0.01418343]),\n",
      " 'mean_score_time': array([0.10723689, 0.1068531 , 0.10674214, 0.10697496]),\n",
      " 'mean_test_score': array([0.867, 0.876, 0.848, 0.78 ]),\n",
      " 'mean_train_score': array([1.        , 0.92877399, 0.87789274, 0.79367635]),\n",
      " 'param_n_neighbors': masked_array(data=[1, 3, 10, 30],\n",
      "             mask=[False, False, False, False],\n",
      "       fill_value='?',\n",
      "            dtype=object),\n",
      " 'params': [{'n_neighbors': 1},\n",
      "            {'n_neighbors': 3},\n",
      "            {'n_neighbors': 10},\n",
      "            {'n_neighbors': 30}],\n",
      " 'rank_test_score': array([2, 1, 3, 4], dtype=int32),\n",
      " 'split0_test_score': array([0.79047619, 0.82857143, 0.79047619, 0.77142857]),\n",
      " 'split0_train_score': array([1.        , 0.92960894, 0.88044693, 0.79888268]),\n",
      " 'split1_test_score': array([0.88349515, 0.87378641, 0.83495146, 0.75728155]),\n",
      " 'split1_train_score': array([1.        , 0.92307692, 0.87736901, 0.79487179]),\n",
      " 'split2_test_score': array([0.91176471, 0.93137255, 0.87254902, 0.79411765]),\n",
      " 'split2_train_score': array([1.        , 0.92650334, 0.87082405, 0.79064588]),\n",
      " 'split3_test_score': array([0.88235294, 0.87254902, 0.85294118, 0.75490196]),\n",
      " 'split3_train_score': array([1.        , 0.92761693, 0.88195991, 0.80066815]),\n",
      " 'split4_test_score': array([0.77, 0.8 , 0.8 , 0.78]),\n",
      " 'split4_train_score': array([1.        , 0.93333333, 0.87888889, 0.79444444]),\n",
      " 'split5_test_score': array([0.91, 0.95, 0.89, 0.79]),\n",
      " 'split5_train_score': array([1.        , 0.92666667, 0.88444444, 0.79666667]),\n",
      " 'split6_test_score': array([0.84693878, 0.83673469, 0.85714286, 0.81632653]),\n",
      " 'split6_train_score': array([1.        , 0.93237251, 0.88026608, 0.79046563]),\n",
      " 'split7_test_score': array([0.86597938, 0.86597938, 0.81443299, 0.75257732]),\n",
      " 'split7_train_score': array([1.        , 0.92912514, 0.88372093, 0.79291251]),\n",
      " 'split8_test_score': array([0.88659794, 0.89690722, 0.88659794, 0.77319588]),\n",
      " 'split8_train_score': array([1.        , 0.93023256, 0.87043189, 0.79401993]),\n",
      " 'split9_test_score': array([0.92708333, 0.90625   , 0.88541667, 0.8125    ]),\n",
      " 'split9_train_score': array([1.        , 0.92920354, 0.87057522, 0.78318584]),\n",
      " 'std_fit_time': array([0.00145742, 0.00161052, 0.00025713, 0.00042866]),\n",
      " 'std_score_time': array([0.00056041, 0.00026191, 0.00018201, 0.00031725]),\n",
      " 'std_test_score': array([0.04919848, 0.04435016, 0.03510185, 0.02153168]),\n",
      " 'std_train_score': array([0.        , 0.00283304, 0.00515785, 0.00466044])}\n",
      "KNeighborsClassifier(algorithm='auto', leaf_size=30, metric='minkowski',\n",
      "           metric_params=None, n_jobs=-1, n_neighbors=3, p=2,\n",
      "           weights='uniform')\n"
     ]
    }
   ],
   "source": [
    "cvres = grid_search.cv_results_\n",
    "\n",
    "from pprint import pprint\n",
    "pprint(grid_search.cv_results_)\n",
    "\n",
    "import csv\n",
    "\n",
    "with open('grid_search_details.csv', 'w') as csv_file:\n",
    "    writer = csv.writer(csv_file)\n",
    "    for key, value in grid_search.cv_results_.items():\n",
    "       writer.writerow([key, value])\n",
    "    \n",
    "print(grid_search.best_estimator_)\n",
    "np.savetxt(\"best_estimator.txt\", [grid_search.best_estimator_],fmt=\"%s\" )"
   ]
  },
  {
   "cell_type": "code",
   "execution_count": 13,
   "metadata": {},
   "outputs": [],
   "source": [
    "final_model = grid_search.best_estimator_\n",
    "final_predictions = final_model.predict(X_test)"
   ]
  },
  {
   "cell_type": "code",
   "execution_count": 18,
   "metadata": {},
   "outputs": [
    {
     "name": "stdout",
     "output_type": "stream",
     "text": [
      "0.8755\n",
      "[[ 957    2    4    2    0    4    8    1    2    0]\n",
      " [   0 1130    0    4    0    0    1    0    0    0]\n",
      " [  31   82  845   16    3    1    9   33    9    3]\n",
      " [   4   30   15  916    0   20    3   11    8    3]\n",
      " [   4   38    5    2  802    0    9    7    1  114]\n",
      " [  17   27    3  114    7  679   18    5    7   15]\n",
      " [  11   13    4    2    6   10  910    1    1    0]\n",
      " [   0   62    5    1   12    0    0  911    0   37]\n",
      " [  28   24   28  103   12   28    3   11  709   28]\n",
      " [  13   16    2   10   46    5    1   20    0  896]]\n"
     ]
    }
   ],
   "source": [
    "from sklearn.metrics import accuracy_score\n",
    "from sklearn.metrics import confusion_matrix\n",
    "conf_mx = confusion_matrix(y_test, final_predictions)\n",
    "print(accuracy_score(y_test, final_predictions))\n",
    "print(conf_mx)\n",
    "np.savetxt(\"accuracy_score.txt\", [accuracy_score(y_test, final_predictions)], delimiter=\",\" , fmt='%10.5f')\n",
    "np.savetxt(\"conf_mat.csv\", conf_mx, delimiter=\",\" , fmt='%10.0f')\n",
    "\n",
    "data = conf_mx\n",
    "\n",
    "image_product = 70\n",
    "new_data = np.zeros(np.array(data.shape) * image_product)\n",
    "for j in range(data.shape[0]):\n",
    "    for k in range(data.shape[1]):\n",
    "        new_data[j * image_product: (j+1) * image_product, k * image_product: (k+1) * image_product] = data[j, k]\n",
    "# plt.imshow(new_data, cmap=plt.cm.gray)\n",
    "# plt.show()\n",
    "plt.imsave(\"confusion_mat.jpg\" , new_data, dpi=1000,cmap=plt.cm.gray)"
   ]
  },
  {
   "cell_type": "code",
   "execution_count": null,
   "metadata": {},
   "outputs": [],
   "source": [
    "# from sklearn.model_selection import cross_val_predict,cross_val_score\n",
    "# clf = KNeighborsClassifier(n_jobs=-1)\n",
    "# y_train_pred = cross_val_score(clf, X_train, y_train, cv=10)\n",
    "# print(y_train_pred)\n",
    "# y_train_pred = cross_val_predict(clf, X_train, y_train, cv=10)\n",
    "# print(y_train_pred)\n"
   ]
  },
  {
   "cell_type": "code",
   "execution_count": null,
   "metadata": {},
   "outputs": [],
   "source": []
  },
  {
   "cell_type": "code",
   "execution_count": null,
   "metadata": {},
   "outputs": [],
   "source": []
  }
 ],
 "metadata": {
  "kernelspec": {
   "display_name": "Python 3",
   "language": "python",
   "name": "python3"
  },
  "language_info": {
   "codemirror_mode": {
    "name": "ipython",
    "version": 3
   },
   "file_extension": ".py",
   "mimetype": "text/x-python",
   "name": "python",
   "nbconvert_exporter": "python",
   "pygments_lexer": "ipython3",
   "version": "3.5.2"
  }
 },
 "nbformat": 4,
 "nbformat_minor": 2
}

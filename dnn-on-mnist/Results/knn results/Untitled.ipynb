{
 "cells": [
  {
   "cell_type": "code",
   "execution_count": 2,
   "metadata": {},
   "outputs": [],
   "source": [
    "%matplotlib inline\n",
    "import keras\n",
    "import pandas as pd\n",
    "import numpy as np\n",
    "import matplotlib.pyplot as plt"
   ]
  },
  {
   "cell_type": "code",
   "execution_count": 2,
   "metadata": {},
   "outputs": [],
   "source": [
    "# %load testkeras.py\n",
    "\n",
    "filename = 'Datasets/mnist_train.csv'\n",
    "trainDataset = pd.read_csv(filename,skipinitialspace=True)\n",
    "\n",
    "filename = 'Datasets/mnist_test.csv'\n",
    "testDataset = pd.read_csv(filename,skipinitialspace=True)\n",
    "\n",
    "array = trainDataset.values\n",
    "XTrain = array[:,1:785]/255\n",
    "YTrain = array[:,0]\n",
    "\n",
    "array = testDataset.values\n",
    "XTest = array[:,1:785]/255\n",
    "YTest = array[:,0]"
   ]
  },
  {
   "cell_type": "code",
   "execution_count": 2,
   "metadata": {},
   "outputs": [],
   "source": [
    "from sklearn.datasets import fetch_mldata\n",
    "mnist = fetch_mldata('MNIST original')\n",
    "X, y = mnist[\"data\"], mnist[\"target\"]\n",
    "X_train, X_test, y_train, y_test = X[:60000], X[60000:], y[:60000], y[60000:]\n",
    "\n",
    "# shuffle_index = np.random.permutation(60000)\n",
    "# X_train, y_train = X_train[shuffle_index], y_train[shuffle_index]"
   ]
  },
  {
   "cell_type": "code",
   "execution_count": 3,
   "metadata": {},
   "outputs": [],
   "source": [
    "from sklearn.model_selection import cross_val_score\n"
   ]
  },
  {
   "cell_type": "code",
   "execution_count": 4,
   "metadata": {},
   "outputs": [],
   "source": [
    "# a = XTest[2]\n",
    "# print(neigh.predict([a]))\n",
    "# plt.imshow(np.reshape(a,(28,28)))"
   ]
  },
  {
   "cell_type": "code",
   "execution_count": 5,
   "metadata": {},
   "outputs": [],
   "source": [
    "from sklearn.metrics import accuracy_score\n",
    "from sklearn.neighbors import KNeighborsClassifier\n",
    "from sklearn.naive_bayes import GaussianNB\n",
    "from sklearn.neural_network import MLPClassifier"
   ]
  },
  {
   "cell_type": "code",
   "execution_count": 6,
   "metadata": {},
   "outputs": [
    {
     "data": {
      "text/plain": [
       "array([0.96563677, 0.96449645])"
      ]
     },
     "execution_count": 6,
     "metadata": {},
     "output_type": "execute_result"
    }
   ],
   "source": [
    "neigh = KNeighborsClassifier(n_neighbors=3,n_jobs=-1)\n",
    "# neigh = MLPClassifier(solver='sgd',learning_rate='constant', learning_rate_init=0.1, hidden_layer_sizes=(10, 10))\n",
    "# neigh = MLPClassifier(hidden_layer_sizes=(10,10,10,10,10), max_iter=20, alpha=1e-4,\n",
    "#                     solver='sgd', verbose=10, tol=1e-8,\n",
    "#                     learning_rate_init=.1)\n",
    "# neigh = GaussianNB()\n",
    "# neigh.fit(XTrain, YTrain) \n",
    "# print(\"Training set score: %f\" % mlp.score(XTrain, YTrain))\n",
    "# print(\"Test set score: %f\" % mlp.score(XTest, YTest))\n",
    "cross_val_score(neigh, X_train, y_train, cv=2, scoring=\"accuracy\")\n",
    "# predictions = neigh.predict(XTest)\n",
    "# print(accuracy_score(YTest, predictions))"
   ]
  },
  {
   "cell_type": "code",
   "execution_count": null,
   "metadata": {},
   "outputs": [],
   "source": [
    "from sklearn.model_selection import cross_val_predict\n",
    "y_train_pred = cross_val_predict(neigh, X_train, y_train, cv=3)\n",
    "from sklearn.metrics import confusion_matrix\n",
    "confusion_matrix(y_train, y_train_pred)"
   ]
  },
  {
   "cell_type": "code",
   "execution_count": null,
   "metadata": {},
   "outputs": [],
   "source": [
    "# y_train_pred[6000:6090]\n",
    "y_train[1000:1090]"
   ]
  },
  {
   "cell_type": "code",
   "execution_count": null,
   "metadata": {},
   "outputs": [],
   "source": [
    "from sklearn.metrics import precision_score, recall_score\n",
    "print(precision_score(y_train, y_train_pred))\n",
    "print(recall_score(y_train, y_train_pred))\n",
    "from sklearn.metrics import f1_score\n",
    "f1_score(y_train, y_train_pred)"
   ]
  },
  {
   "cell_type": "code",
   "execution_count": null,
   "metadata": {},
   "outputs": [],
   "source": []
  }
 ],
 "metadata": {
  "kernelspec": {
   "display_name": "Python 3",
   "language": "python",
   "name": "python3"
  },
  "language_info": {
   "codemirror_mode": {
    "name": "ipython",
    "version": 3
   },
   "file_extension": ".py",
   "mimetype": "text/x-python",
   "name": "python",
   "nbconvert_exporter": "python",
   "pygments_lexer": "ipython3",
   "version": "3.5.2"
  }
 },
 "nbformat": 4,
 "nbformat_minor": 2
}
